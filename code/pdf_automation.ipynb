{
  "nbformat": 4,
  "nbformat_minor": 0,
  "metadata": {
    "colab": {
      "name": "Copy of V2-pdf_automation.ipynb",
      "provenance": [],
      "collapsed_sections": []
    },
    "kernelspec": {
      "name": "python3",
      "display_name": "Python 3"
    },
    "language_info": {
      "name": "python"
    }
  },
  "cells": [
    {
      "cell_type": "code",
      "metadata": {
        "id": "KOXtkKQGTpK4"
      },
      "source": [
        ""
      ],
      "execution_count": null,
      "outputs": []
    },
    {
      "cell_type": "code",
      "metadata": {
        "id": "rIi2iZfpTpM2"
      },
      "source": [
        ""
      ],
      "execution_count": null,
      "outputs": []
    },
    {
      "cell_type": "code",
      "metadata": {
        "id": "ZpKzp0ZZ65WQ",
        "colab": {
          "base_uri": "https://localhost:8080/"
        },
        "outputId": "4afeb528-7611-488c-cef0-55aa94e19609"
      },
      "source": [
        "!pip install FPDF"
      ],
      "execution_count": 1,
      "outputs": [
        {
          "output_type": "stream",
          "text": [
            "Collecting FPDF\n",
            "  Downloading fpdf-1.7.2.tar.gz (39 kB)\n",
            "Building wheels for collected packages: FPDF\n",
            "  Building wheel for FPDF (setup.py) ... \u001b[?25l\u001b[?25hdone\n",
            "  Created wheel for FPDF: filename=fpdf-1.7.2-py2.py3-none-any.whl size=40722 sha256=51a71cf409f2635d91b446cba9cb1b1883586143ed7062e3f445e65038038e2b\n",
            "  Stored in directory: /root/.cache/pip/wheels/d7/ca/c8/86467e7957bbbcbdf4cf4870fc7dc95e9a16404b2e3c3a98c3\n",
            "Successfully built FPDF\n",
            "Installing collected packages: FPDF\n",
            "Successfully installed FPDF-1.7.2\n"
          ],
          "name": "stdout"
        }
      ]
    },
    {
      "cell_type": "code",
      "metadata": {
        "id": "en4QE1l2pt-m"
      },
      "source": [
        "import numpy as np\n",
        "import pandas as pd\n",
        "from fpdf import FPDF\n",
        "import matplotlib as mpl\n",
        "import matplotlib.pyplot as plt\n",
        "from matplotlib.ticker import ScalarFormatter\n",
        "import math"
      ],
      "execution_count": 2,
      "outputs": []
    },
    {
      "cell_type": "code",
      "metadata": {
        "colab": {
          "base_uri": "https://localhost:8080/"
        },
        "id": "zIhlLgynK_t-",
        "outputId": "b17ab9bc-2b25-4674-949f-ccc2433e199e"
      },
      "source": [
        "from google.colab import drive\n",
        "drive.mount('/content/drive')"
      ],
      "execution_count": 3,
      "outputs": [
        {
          "output_type": "stream",
          "text": [
            "Mounted at /content/drive\n"
          ],
          "name": "stdout"
        }
      ]
    },
    {
      "cell_type": "code",
      "metadata": {
        "id": "wgFgFrIns8LD"
      },
      "source": [
        "url = '/content/drive/MyDrive/Colab Notebooks/HER/data/sample_size2.csv'"
      ],
      "execution_count": 4,
      "outputs": []
    },
    {
      "cell_type": "code",
      "metadata": {
        "id": "iTCHSuDEvS3d"
      },
      "source": [
        "df = pd.read_csv(url,encoding='utf-8')\n",
        "#df.head(10)"
      ],
      "execution_count": 5,
      "outputs": []
    },
    {
      "cell_type": "code",
      "metadata": {
        "id": "WvNLGwW3s8Ob"
      },
      "source": [
        "df['year'] = pd.DatetimeIndex(df['date']).year\n",
        "df['month'] = pd.DatetimeIndex(df['date']).month"
      ],
      "execution_count": 6,
      "outputs": []
    },
    {
      "cell_type": "code",
      "metadata": {
        "id": "G_26u-1vs8W4"
      },
      "source": [
        "month = 6\n",
        "year = 2020"
      ],
      "execution_count": 7,
      "outputs": []
    },
    {
      "cell_type": "code",
      "metadata": {
        "id": "cSCzToPfpuD7"
      },
      "source": [
        "df1 = df[(df[\"month\"]== month) & (df[\"year\"]==year)]\n",
        "df1 = df1.reset_index(drop=True)\n",
        "#x_name = ['efficient_neighbour', 'monthly_consumption', 'average_consumption']\n",
        "x_name = ['min_consumed_unit', 'avg_consumed_unit', 'max_consumed_unit']\n",
        "image_DU_link = '/content/drive/MyDrive/Colab Notebooks/HER/pic/DU.png'"
      ],
      "execution_count": 8,
      "outputs": []
    },
    {
      "cell_type": "code",
      "metadata": {
        "colab": {
          "base_uri": "https://localhost:8080/"
        },
        "id": "xQZOCY6AMitS",
        "outputId": "8fcaff46-77ed-49d0-ad3d-38b7c5ac1d6c"
      },
      "source": [
        "df1.columns"
      ],
      "execution_count": 9,
      "outputs": [
        {
          "output_type": "execute_result",
          "data": {
            "text/plain": [
              "Index(['Unnamed: 0', 'account_no_x', 'meter_no', 'recharge_amount', 'vat',\n",
              "       'rebate', 'recharge_date', 'recharge_number', 'recharge_number_f',\n",
              "       'date', 'time', 'n_recharge', 'n_recharge_dup', 'location_name',\n",
              "       'feeder', 'transformer', 'customer_name', 'customer_address',\n",
              "       'mobile_no', 'account_no_y', 'meter_no_x', 'tariff', 'phase',\n",
              "       'acc_under_transformer', 'meter_no_y', 'demand_charge', 'count_month',\n",
              "       'total_consumed_unit', 'min_consumed_unit', 'max_consumed_unit',\n",
              "       'avg_consumed_unit', 'year', 'month'],\n",
              "      dtype='object')"
            ]
          },
          "metadata": {
            "tags": []
          },
          "execution_count": 9
        }
      ]
    },
    {
      "cell_type": "code",
      "metadata": {
        "id": "uJgI94frtUk7"
      },
      "source": [
        "for i in range(0,3):\n",
        "  transformer = df1. iloc[:, 15][i]\n",
        "  min_c_u = df1.iloc[:, 28][i]\n",
        "  avg_c_u = df1.iloc[:, 30][i]\n",
        "  id_num = df1.iloc[:, 1][i]\n",
        "  max_c_u = df1.iloc[:, 29][i]\n",
        "  name = df1.iloc[:, 16][i]\n",
        "  address = df1.iloc[:, 17][i]\n",
        "  #scr = df1.iloc[:, 17][i]\n",
        "  #p_y_c = df1.iloc[:, 18][i]\n",
        "  val = [min_c_u, avg_c_u, max_c_u]\n",
        "  mobile = df1.iloc[:, 7][i]\n",
        "  cost = df1.iloc[:, 27][i]\n",
        "  percent = df1.iloc[:, 5][i]\n",
        "\n",
        "  \n",
        "  fig_width_cm = 21                                # A4 page\n",
        "  fig_height_cm = 29.7\n",
        "  inches_per_cm = 1 / 2.54                         # Convert cm to inches\n",
        "  fig_width = fig_width_cm * inches_per_cm         # width in inches\n",
        "  fig_height = fig_height_cm * inches_per_cm       # height in inches\n",
        "  fig_size = [fig_width, fig_height]\n",
        "\n",
        "\n",
        "  fig = plt.figure()\n",
        "  fig.set_size_inches(fig_size)\n",
        "  plt.bar(x_name, val, color =['green', 'red', 'blue'],width = .9999)\n",
        "  plt.xticks(fontsize=12)\n",
        "\n",
        "  for index, value in enumerate(np.round(val,2)):\n",
        "    plt.text(index,value, str(value)+\" kWh\",fontsize=23, ha='center')\n",
        "\n",
        "          \n",
        "  plt.savefig('/content/drive/MyDrive/Colab Notebooks/HER/pic/plot_compare/compare_id_'+ str(i) + '.png')\n",
        "  plt.close(fig)\n",
        "  image_compare_plot_link = '/content/drive/MyDrive/Colab Notebooks/HER/pic/plot_compare/compare_id_'+ str(i) + '.png'\n",
        "\n",
        "\n",
        "\n",
        "  pdf = FPDF(orientation='P', unit='mm', format='A5')\n",
        "  pdf.add_page()\n",
        "  pdf.rect(5.0, 5.0, 140.0,200.0)\n",
        "  pdf.rect(6.0, 6.0, 138.0,198.0)\n",
        "  pdf.set_xy(7.0,10.0)\n",
        "  pdf.set_font('Arial', 'B', 12)\n",
        "  pdf.set_text_color(0, 0, 0)\n",
        "  #pdf.cell(w=180.0, h=20.0, align='L', txt=\"Energy Profile Report\", border=0) #h = decrease (up)\n",
        "  pdf.cell(w = 0,h=0.0, align='L', txt=\"Energy Profile Report\", border=0)\n",
        "  pdf.cell(w = 0,h=0.0, align='R', txt=\"[Month_name], \" + str(year), border=0)\n",
        "  pdf.set_font('Times', '', 6)\n",
        "  pdf.cell(w = 6,h=15, align='R', txt=\"A service provided by BRAC JPGSPH analytics Lab \", border=0)\n",
        "\n",
        "############################################################################################################\n",
        "  #pdf.cell(w=140.0, h=35.0, align='C', txt=\"শিরোনাম\", border=0)\n",
        "\n",
        "  pdf.set_text_color(0, 0, 0)\n",
        "  pdf.set_font('Times', '', 10)\n",
        "  pdf.line(8, 20,140 ,20);\n",
        "  pdf.set_xy(8.0,23.0)\n",
        "  pdf.cell(w = 0,h=0.0, align='L', txt=\"Household Summery\", border=0)\n",
        "  pdf.line(8, 26,140 ,25);\n",
        "\n",
        "  pdf.set_font('Times', '', 8)\n",
        "  pdf.set_xy(8.0,30.0)\n",
        "  pdf.cell(w=0, h=0, align='L', txt=\"Name:   \\t\\t\\t\\t\" + name, border=0)\n",
        "  pdf.set_xy(8.0,34.0)\n",
        "  pdf.cell(w=0, h=0, align='L', txt=\"Address:\\t\\t\\t\\t\" + address, border=0)\n",
        "  pdf.set_xy(8.0,38.0)\n",
        "  pdf.cell(w=0, h=0, align='L', txt=\"Mobile: \\t\\t\\t\\t\" + str(mobile) , border=0)\n",
        "\n",
        "  pdf.set_xy(8.0,30.0)\n",
        "  pdf.cell(w=0, h=0, align='R', txt=\"Id Number:\\t\\t\\t\\t\\t\\t\" + str(id_num), border=0)\n",
        "  pdf.set_xy(8.0,34.0)\n",
        "  pdf.cell(w=0, h=0, align='R', txt=\"Transformer:\\t\\t\\t\\t\\t\\t\" + str(transformer), border=0)\n",
        "\n",
        "######################################################################################################################\n",
        "\n",
        "  pdf.set_font('Times', '', 10)\n",
        "  pdf.line(8, 46,140 ,46);\n",
        "  pdf.set_xy(8.0,49.0)\n",
        "  pdf.cell(w = 0,h=0.0, align='L', txt=\"Energy Consumption Trends\", border=0)\n",
        "  pdf.set_font('Times', '', 6)\n",
        "  pdf.cell(w = 0,h=0.0, align='R', txt=\"based on last bill covering [month_name], \" + str(year) , border=0)\n",
        "  pdf.line(8, 52,140 ,52)\n",
        "\n",
        "  pdf.set_font('Arial', '', 9)\n",
        "  pdf.set_xy(11.0,60.0)\n",
        "  pdf.cell(w = 0,h=0.0, align='L', txt=\"Annual Energy Cost  \" +  str(cost) + \" taka\" , border=0)\n",
        "\n",
        "  pdf.set_font('Times', 'B', 24)\n",
        "  pdf.set_text_color(0, 100, 0)\n",
        "  pdf.set_xy(11.0,68.0)\n",
        "  pdf.cell(w = 0,h=0.0, align='L', txt=\"\" +  str(percent) + \" %\" , border=0)\n",
        "  pdf.set_font('Times', '', 9)\n",
        "  pdf.set_xy(11.0,74.0)\n",
        "  pdf.cell(w = 0,h=0.0, align='L', txt=\"since you register on [date]\" , border=0)\n",
        "\n",
        "#######################################\n",
        "\n",
        "  pdf.set_font('Arial', '', 9)\n",
        "  pdf.set_xy(11.0,60.0)\n",
        "  pdf.set_text_color(0, 0, 0)\n",
        "  pdf.cell(w = 0,h=0.0, align='R', txt=\"Home Idle Mode  \" +  str(560.00) + \" Watts\" , border=0)\n",
        "\n",
        "  pdf.set_font('Times', 'B', 24)\n",
        "  pdf.set_text_color(100, 0, 0)\n",
        "  pdf.set_xy(11.0,68.0)\n",
        "  pdf.cell(w = 0,h=0.0, align='R', txt=\"\" +  str(12) + \" %\" , border=0)\n",
        "  pdf.set_font('Times', '', 9)\n",
        "  pdf.set_xy(11.0,74.0)\n",
        "  pdf.cell(w = 0,h=0.0, align='R', txt=\"since you register on [date]\" , border=0)\n",
        "\n",
        "###############################\n",
        "\n",
        "  pdf.set_draw_color(128,128,128)\n",
        "  pdf.set_line_width(0.05)\n",
        "  pdf.line(11, 77,66 ,77)\n",
        "  pdf.line(85, 77,140 ,77)\n",
        "\n",
        "  pdf.set_font('Times', '', 9)\n",
        "  pdf.set_text_color(0, 0, 0)\n",
        "  pdf.set_xy(11.0,80.0)\n",
        "  dummy_text = \"Energy cost of your household in the past 12 months of \" +  str(year) + \".Percentage change is based on comparison to the benchmark, which is the year prior to your registration..............[changeable]\"\n",
        "  #pdf.cell(w = 66,h=0, align='L', txt=\"Energy cost of your household in the past 12 months.Percentage change is based on comparison to the benchmark, which\" , border=0)\n",
        "  #pdf.word_wrap(dummy_text,120)\n",
        "  pdf.write(5,dummy_text)\n",
        "\n",
        "########################################################################################################################################\n",
        "\n",
        "  pdf.set_draw_color(0,0,0)\n",
        "  pdf.set_line_width(0.2)\n",
        "  pdf.set_font('Times', '', 10)\n",
        "  pdf.line(8, 100,140,100);\n",
        "  pdf.set_xy(8.0,103.0)\n",
        "  pdf.cell(w = 0,h=0.0, align='L', txt=\"Energy Profile\", border=0)\n",
        "  pdf.set_font('Times', '', 6)\n",
        "  pdf.cell(w = 0,h=0.0, align='R', txt=\"based on last 12 months\" , border=0)\n",
        "  pdf.line(8, 106,140 ,106)\n",
        "\n",
        "  pdf.set_xy(12,108.0)\n",
        "  pdf.image(image_compare_plot_link,  link='/content/drive/MyDrive/Colab Notebooks/HER/pic/plot_compare/compare_id_'+ str(i) + '.png', type='', w=1586/25, h=1920/25)\n",
        "\n",
        "\n",
        "\n",
        "  #pdf.set_fill_color(221, 235, 247)\n",
        "  #pdf.set_xy(8.0,30.0)\n",
        "  #pdf.cell(40, 40, '', 1, 1, 'L', fill=True)\n",
        "  #pdf.set_xy(8.0,30.0)\n",
        "  #pdf.image(image_DU_link,  link='', type='', w=1586/80, h=1920/80)\n",
        "\n",
        "  #pdf.set_xy(8.0,61.0)\n",
        "  #pdf.set_fill_color(100, 35, 247)\n",
        "  #pdf.cell(40, 60, '', 1, 1, 'L', fill=True)\n",
        "  #pdf.set_font('Arial', 'B', 7)\n",
        "  #pdf.set_text_color(0, 0, 0)\n",
        "  #pdf.set_xy(8.0,35.0)\n",
        "  #pdf.cell(w=8.0, h=62.0, align='', txt=\"ID: \" + str(id_num), border=0)\n",
        "  #pdf.set_xy(8.0,40.0)\n",
        "  #pdf.cell(w=8.0, h=62.0, align='', txt=\"transformer: \" + str(transformer), border=0)\n",
        "\n",
        "\n",
        "  #pdf.set_xy(8.0,45.0)\n",
        "  #pdf.cell(w=8.0, h=62.0, align='', txt=\"Name: \" + name, border=0)\n",
        "  #pdf.set_xy(8.0,50.0)\n",
        "  #pdf.cell(w=8.0, h=62.0, align='', txt=\"Address: \"+ address, border=0)\n",
        "\n",
        "   \n",
        "\n",
        "  #pdf.set_xy(8.0,60.0)\n",
        "  #pdf.cell(w=8.0, h=62.0, align='', txt=\"Month: \" + str(month), border=0)\n",
        "  #pdf.set_xy(8.0,65.0)\n",
        "  #pdf.cell(w=8.0, h=62.0, align='', txt=\"Year: \" + str(year), border=0)\n",
        "\n",
        "\n",
        "  #pdf.add_page()\n",
        "  #pdf.set_xy(12,51.0)\n",
        "  #pdf.image(image_compare_plot_link,  link='/content/drive/MyDrive/Colab Notebooks/HER/pic/plot_compare/compare_id_'+ str(i) + '.png', type='', w=1586/25, h=1920/25)\n",
        "\n",
        "  \n",
        "  pdf.set_author('Abdullah Al Asif')\n",
        "  pdf.output('/content/drive/MyDrive/Colab Notebooks/HER/pdf/ID_' + str(i) + '.pdf','F')\n",
        "\n"
      ],
      "execution_count": 10,
      "outputs": []
    },
    {
      "cell_type": "code",
      "metadata": {
        "id": "dANK9_Vzv7hs"
      },
      "source": [
        ""
      ],
      "execution_count": 10,
      "outputs": []
    }
  ]
}